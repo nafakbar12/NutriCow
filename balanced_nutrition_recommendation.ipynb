import pandas as pd
import joblib
from sklearn.model_selection import train_test_split
from sklearn.linear_model import Ridge
from sklearn.metrics import mean_squared_error, r2_score

# Load the dataset, milking yes=1, no=2, and cattle_type cow=2 buffalo=1, raj=2, up=1
data = pd.read_csv('cattle_nutrition.csv')

X = data[['bw', 'milk_yield', 'cattle_type', 'loc', 'milking']]
y = data[['gfa', 'dfa', 'cca', 'mola', 'sa', 'yp']]

# Split the data into training and testing sets
X_train, X_test, y_train, y_test = train_test_split(X, y, test_size=0.15, random_state=50)

# Initialize Ridge Regression with regularization strength (alpha)
ridge_model = Ridge(alpha=1.0)  # You can adjust alpha based on cross-validation results

# Train the Ridge Regression model
ridge_model.fit(X_train, y_train)

# Make predictions
ridge_predictions = ridge_model.predict(X_test)

# Save the trained model using joblib
joblib.dump(ridge_model, 'nutricow.pkl')

# Evaluate the Ridge Regression model
ridge_mse = mean_squared_error(y_test, ridge_predictions)
ridge_r2 = r2_score(y_test, ridge_predictions)
